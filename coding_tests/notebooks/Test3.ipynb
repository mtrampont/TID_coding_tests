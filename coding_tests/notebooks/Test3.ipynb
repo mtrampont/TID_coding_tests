{
 "cells": [
  {
   "cell_type": "markdown",
   "metadata": {},
   "source": [
    "# Exercise 3\n",
    "\n",
    "## Initializing the spark context\n"
   ]
  },
  {
   "cell_type": "code",
   "execution_count": 1,
   "metadata": {
    "collapsed": false
   },
   "outputs": [
    {
     "data": {
      "text/plain": [
       "\u001b[36mscalaVersion\u001b[0m: \u001b[32mString\u001b[0m = \u001b[32m\"2.11.8\"\u001b[0m"
      ]
     },
     "metadata": {},
     "output_type": "display_data"
    }
   ],
   "source": [
    "val scalaVersion = scala.util.Properties.versionNumberString"
   ]
  },
  {
   "cell_type": "code",
   "execution_count": 2,
   "metadata": {
    "collapsed": false
   },
   "outputs": [
    {
     "name": "stdout",
     "output_type": "stream",
     "text": [
      "130 new artifact(s)"
     ]
    },
    {
     "name": "stderr",
     "output_type": "stream",
     "text": [
      "130 new artifacts in macro"
     ]
    },
    {
     "name": "stdout",
     "output_type": "stream",
     "text": [
      "\r\n"
     ]
    },
    {
     "name": "stderr",
     "output_type": "stream",
     "text": [
      "\n",
      "130 new artifacts in runtime\n",
      "130 new artifacts in compile\n"
     ]
    },
    {
     "data": {
      "text/plain": []
     },
     "metadata": {},
     "output_type": "display_data"
    }
   ],
   "source": [
    "classpath.add(\"org.apache.spark\" %% \"spark-core\" % \"1.6.0\")"
   ]
  },
  {
   "cell_type": "code",
   "execution_count": 3,
   "metadata": {
    "collapsed": false,
    "scrolled": true
   },
   "outputs": [
    {
     "name": "stderr",
     "output_type": "stream",
     "text": [
      "Using Spark's default log4j profile: org/apache/spark/log4j-defaults.properties\n",
      "16/05/18 12:40:58 INFO SparkContext: Running Spark version 1.6.0\n",
      "16/05/18 12:40:58 WARN NativeCodeLoader: Unable to load native-hadoop library for your platform... using builtin-java classes where applicable\n",
      "16/05/18 12:40:58 INFO SecurityManager: Changing view acls to: mtrampont\n",
      "16/05/18 12:40:58 INFO SecurityManager: Changing modify acls to: mtrampont\n",
      "16/05/18 12:40:58 INFO SecurityManager: SecurityManager: authentication disabled; ui acls disabled; users with view permissions: Set(mtrampont); users with modify permissions: Set(mtrampont)\n",
      "16/05/18 12:40:58 INFO Utils: Successfully started service 'sparkDriver' on port 55131.\n",
      "16/05/18 12:40:59 INFO Slf4jLogger: Slf4jLogger started\n",
      "16/05/18 12:40:59 INFO Remoting: Starting remoting\n",
      "16/05/18 12:40:59 INFO Remoting: Remoting started; listening on addresses :[akka.tcp://sparkDriverActorSystem@192.168.56.1:55144]\n",
      "16/05/18 12:40:59 INFO Utils: Successfully started service 'sparkDriverActorSystem' on port 55144.\n",
      "16/05/18 12:40:59 INFO SparkEnv: Registering MapOutputTracker\n",
      "16/05/18 12:40:59 INFO SparkEnv: Registering BlockManagerMaster\n",
      "16/05/18 12:40:59 INFO DiskBlockManager: Created local directory at C:\\Users\\mtrampont\\AppData\\Local\\Temp\\blockmgr-811c1c1b-bedb-4089-bcf0-553490a792ba\n",
      "16/05/18 12:40:59 INFO MemoryStore: MemoryStore started with capacity 2.4 GB\n",
      "16/05/18 12:40:59 INFO SparkEnv: Registering OutputCommitCoordinator\n",
      "16/05/18 12:40:59 INFO Utils: Successfully started service 'SparkUI' on port 4040.\n",
      "16/05/18 12:40:59 INFO SparkUI: Started SparkUI at http://192.168.56.1:4040\n",
      "16/05/18 12:40:59 INFO Executor: Starting executor ID driver on host localhost\n",
      "16/05/18 12:40:59 INFO Utils: Successfully started service 'org.apache.spark.network.netty.NettyBlockTransferService' on port 55181.\n",
      "16/05/18 12:40:59 INFO NettyBlockTransferService: Server created on 55181\n",
      "16/05/18 12:40:59 INFO BlockManagerMaster: Trying to register BlockManager\n",
      "16/05/18 12:40:59 INFO BlockManagerMasterEndpoint: Registering block manager localhost:55181 with 2.4 GB RAM, BlockManagerId(driver, localhost, 55181)\n",
      "16/05/18 12:40:59 INFO BlockManagerMaster: Registered BlockManager\n"
     ]
    },
    {
     "data": {
      "text/plain": [
       "\u001b[32mimport \u001b[36morg.apache.spark.SparkConf\u001b[0m\n",
       "\u001b[32mimport \u001b[36morg.apache.spark.SparkContext\u001b[0m\n",
       "\u001b[36msc\u001b[0m: \u001b[32morg\u001b[0m.\u001b[32mapache\u001b[0m.\u001b[32mspark\u001b[0m.\u001b[32mSparkContext\u001b[0m = org.apache.spark.SparkContext@1521e7cd"
      ]
     },
     "metadata": {},
     "output_type": "display_data"
    }
   ],
   "source": [
    "import org.apache.spark.SparkConf\n",
    "import org.apache.spark.SparkContext\n",
    "\n",
    "@transient val sc = {\n",
    "  val conf = new SparkConf()\n",
    "      .setAppName(\"Test1\")\n",
    "      .setMaster(\"local[*]\")\n",
    "  SparkContext.getOrCreate(conf)\n",
    "}\n"
   ]
  },
  {
   "cell_type": "markdown",
   "metadata": {},
   "source": [
    "## Parsing the csv file\n",
    "\n",
    "### Into an RDD\n",
    "Here is we parse the file using only spark to create an RDD with tuples containing the search date and destination."
   ]
  },
  {
   "cell_type": "code",
   "execution_count": 4,
   "metadata": {
    "collapsed": false
   },
   "outputs": [
    {
     "data": {
      "text/plain": [
       "\u001b[36mcsvPath\u001b[0m: \u001b[32mString\u001b[0m = \u001b[32m\"d:/workspace/TID_coding_tests/coding_tests/src/main/resources/searches.csv\"\u001b[0m"
      ]
     },
     "metadata": {},
     "output_type": "display_data"
    }
   ],
   "source": [
    "val csvPath = \"d:/workspace/TID_coding_tests/coding_tests/src/main/resources/searches.csv\""
   ]
  },
  {
   "cell_type": "markdown",
   "metadata": {},
   "source": [
    "Extracting the header line and the columns indexes."
   ]
  },
  {
   "cell_type": "code",
   "execution_count": 5,
   "metadata": {
    "collapsed": false
   },
   "outputs": [
    {
     "data": {
      "text/plain": [
       "\u001b[32mimport \u001b[36mscala.io.Source\u001b[0m\n",
       "\u001b[36mheaderLine\u001b[0m: \u001b[32mString\u001b[0m = \u001b[32m\"Date^Time^TxnCode^OfficeID^Country^Origin^Destination^RoundTrip^NbSegments^Seg1Departure^Seg1Arrival^Seg1Date^Seg1Carrier^Seg1BookingCode^Seg2Departure^Seg2Arrival^Seg2Date^Seg2Carrier^Seg2BookingCode^Seg3Departure^Seg3Arrival^Seg3Date^Seg3Carrier^Seg3BookingCode^Seg4Departure^Seg4Arrival^Seg4Date^Seg4Carrier^Seg4BookingCode^Seg5Departure^Seg5Arrival^Seg5Date^Seg5Carrier^Seg5BookingCode^Seg6Departure^Seg6Arrival^Seg6Date^Seg6Carrier^Seg6BookingCode^From^IsPublishedForNeg^IsFromInternet^IsFromVista^TerminalID^InternetOffice\"\u001b[0m\n",
       "\u001b[36mcolNames\u001b[0m: \u001b[32mMap\u001b[0m[\u001b[32mString\u001b[0m, \u001b[32mInt\u001b[0m] = \u001b[33mMap\u001b[0m(\n",
       "  \u001b[32m\"TxnCode\"\u001b[0m -> \u001b[32m2\u001b[0m,\n",
       "  \u001b[32m\"Seg6Departure\"\u001b[0m -> \u001b[32m34\u001b[0m,\n",
       "  \u001b[32m\"TerminalID\"\u001b[0m -> \u001b[32m43\u001b[0m,\n",
       "  \u001b[32m\"Country\"\u001b[0m -> \u001b[32m4\u001b[0m,\n",
       "  \u001b[32m\"Seg1Carrier\"\u001b[0m -> \u001b[32m12\u001b[0m,\n",
       "  \u001b[32m\"Seg3Departure\"\u001b[0m -> \u001b[32m19\u001b[0m,\n",
       "  \u001b[32m\"Seg5Departure\"\u001b[0m -> \u001b[32m29\u001b[0m,\n",
       "  \u001b[32m\"Origin\"\u001b[0m -> \u001b[32m5\u001b[0m,\n",
       "  \u001b[32m\"RoundTrip\"\u001b[0m -> \u001b[32m7\u001b[0m,\n",
       "  \u001b[32m\"OfficeID\"\u001b[0m -> \u001b[32m3\u001b[0m,\n",
       "  \u001b[32m\"Seg2Arrival\"\u001b[0m -> \u001b[32m15\u001b[0m,\n",
       "  \u001b[32m\"InternetOffice\"\u001b[0m -> \u001b[32m44\u001b[0m,\n",
       "  \u001b[32m\"Seg5Carrier\"\u001b[0m -> \u001b[32m32\u001b[0m,\n",
       "  \u001b[32m\"Seg3Date\"\u001b[0m -> \u001b[32m21\u001b[0m,\n",
       "  \u001b[32m\"Seg5BookingCode\"\u001b[0m -> \u001b[32m33\u001b[0m,\n",
       "  \u001b[32m\"Seg2Departure\"\u001b[0m -> \u001b[32m14\u001b[0m,\n",
       "  \u001b[32m\"Seg1BookingCode\"\u001b[0m -> \u001b[32m13\u001b[0m,\n",
       "  \u001b[32m\"Seg4Departure\"\u001b[0m -> \u001b[32m24\u001b[0m,\n",
       "  \u001b[32m\"Seg6Carrier\"\u001b[0m -> \u001b[32m37\u001b[0m,\n",
       "\u001b[33m...\u001b[0m"
      ]
     },
     "metadata": {},
     "output_type": "display_data"
    }
   ],
   "source": [
    "import scala.io.Source\n",
    "\n",
    "val headerLine =\n",
    "  Source.fromFile(csvPath)\n",
    "        .getLines()\n",
    "        .take(1)\n",
    "        .toList\n",
    "        .head\n",
    "\n",
    "val colNames =\n",
    "  headerLine.split(\"\"\"\\^\"\"\", -1)\n",
    "      .map(_.trim)\n",
    "      .zipWithIndex\n",
    "      .toMap\n"
   ]
  },
  {
   "cell_type": "markdown",
   "metadata": {},
   "source": [
    "Now we can parse the file and create a RDD[(LocalDate, String)] with the search date and the destination airport.\n",
    "I use a scala wrapper around Joda time library to do the parsing and get immutable LocaDate."
   ]
  },
  {
   "cell_type": "code",
   "execution_count": 6,
   "metadata": {
    "collapsed": true
   },
   "outputs": [
    {
     "name": "stdout",
     "output_type": "stream",
     "text": [
      "3 new artifact(s)"
     ]
    },
    {
     "name": "stderr",
     "output_type": "stream",
     "text": [
      "3 new artifacts in macro"
     ]
    },
    {
     "name": "stdout",
     "output_type": "stream",
     "text": [
      "\r\n"
     ]
    },
    {
     "name": "stderr",
     "output_type": "stream",
     "text": [
      "\r\n",
      "3 new artifacts in runtime\r\n",
      "3 new artifacts in compile\r\n"
     ]
    },
    {
     "data": {
      "text/plain": []
     },
     "metadata": {},
     "output_type": "display_data"
    }
   ],
   "source": [
    "classpath.add( \"com.github.nscala-time\" %% \"nscala-time\" % \"1.4.0\")\n"
   ]
  },
  {
   "cell_type": "code",
   "execution_count": 7,
   "metadata": {
    "collapsed": false,
    "scrolled": true
   },
   "outputs": [
    {
     "name": "stdout",
     "output_type": "stream",
     "text": [
      "java.lang.IllegalArgumentException: Parsing failed with line: 2013-01-01,10:15:33,MPT,b0af35b31588dc4ab06d5cf2986e8e02,MD,ATH,MIL,0,1,ATH,MIL,2013-01-04,,,,,,,,,,,,,,,,,,,,,,,,,,,,1ASIWS,0,0,0,d41d8cd98f00b204e9800998ecf8427e,KIV\n",
      "java.lang.IllegalArgumentException: Parsing failed with line: 2013-01-01,10:15:33,MPT,b0af35b31588dc4ab06d5cf2986e8e02,MD,ATH,MIL,0,1,ATH,MIL,2013-01-04,,,,,,,,,,,,,,,,,,,,,,,,,,,,1ASIWS,0,0,0,d41d8cd98f00b204e9800998ecf8427e,KIV\n",
      "java.lang.IllegalArgumentException: Parsing failed with line: 2013-01-01,10:15:33,MPT,b0af35b31588dc4ab06d5cf2986e8e02,MD,ATH,MIL,0,1,ATH,MIL,2013-01-04,,,,,,,,,,,,,,,,,,,,,,,,,,,,1ASIWS,0,0,0,d41d8cd98f00b204e9800998ecf8427e,KIV\n",
      "java.lang.IllegalArgumentException: Parsing failed with line: 2013-01-01,10:15:33,MPT,b0af35b31588dc4ab06d5cf2986e8e02,MD,ATH,MIL,0,1,ATH,MIL,2013-01-04,,,,,,,,,,,,,,,,,,,,,,,,,,,,1ASIWS,0,0,0,d41d8cd98f00b204e9800998ecf8427e,KIV\n",
      "java.lang.IllegalArgumentException: Parsing failed with line: 2013-01-01,10:15:33,MPT,b0af35b31588dc4ab06d5cf2986e8e02,MD,ATH,MIL,0,1,ATH,MIL,2013-01-04,,,,,,,,,,,,,,,,,,,,,,,,,,,,1ASIWS,0,0,0,d41d8cd98f00b204e9800998ecf8427e,KIV\n",
      "java.lang.IllegalArgumentException: Parsing failed with line: 2013-01-01,10:15:33,MPT,b0af35b31588dc4ab06d5cf2986e8e02,MD,ATH,MIL,0,1,ATH,MIL,2013-01-04,,,,,,,,,,,,,,,,,,,,,,,,,,,,1ASIWS,0,0,0,d41d8cd98f00b204e9800998ecf8427e,KIV\n",
      "java.lang.IllegalArgumentException: Parsing failed with line: 2013-01-01,10:15:33,MPT,b0af35b31588dc4ab06d5cf2986e8e02,MD,ATH,MIL,0,1,ATH,MIL,2013-01-04,,,,,,,,,,,,,,,,,,,,,,,,,,,,1ASIWS,0,0,0,d41d8cd98f00b204e9800998ecf8427e,KIV\n",
      "java.lang.IllegalArgumentException: Parsing failed with line: 2013-01-01,10:15:33,MPT,b0af35b31588dc4ab06d5cf2986e8e02,MD,ATH,MIL,0,1,ATH,MIL,2013-01-04,,,,,,,,,,,,,,,,,,,,,,,,,,,,1ASIWS,0,0,0,d41d8cd98f00b204e9800998ecf8427e,KIV\n",
      "java.lang.IllegalArgumentException: Parsing failed with line: 2013-01-01,10:15:33,MPT,b0af35b31588dc4ab06d5cf2986e8e02,MD,ATH,MIL,0,1,ATH,MIL,2013-01-04,,,,,,,,,,,,,,,,,,,,,,,,,,,,1ASIWS,0,0,0,d41d8cd98f00b204e9800998ecf8427e,KIV\n",
      "java.lang.IllegalArgumentException: Parsing failed with line: 2013-01-01,10:15:33,MPT,b0af35b31588dc4ab06d5cf2986e8e02,MD,ATH,MIL,0,1,ATH,MIL,2013-01-04,,,,,,,,,,,,,,,,,,,,,,,,,,,,1ASIWS,0,0,0,d41d8cd98f00b204e9800998ecf8427e,KIV\n",
      "java.lang.IllegalArgumentException: Parsing failed with line: 2013-01-01,10:15:33,MPT,b0af35b31588dc4ab06d5cf2986e8e02,MD,ATH,MIL,0,1,ATH,MIL,2013-01-04,,,,,,,,,,,,,,,,,,,,,,,,,,,,1ASIWS,0,0,0,d41d8cd98f00b204e9800998ecf8427e,KIV\n",
      "java.lang.IllegalArgumentException: Parsing failed with line: 2013-01-01,10:15:33,MPT,b0af35b31588dc4ab06d5cf2986e8e02,MD,ATH,MIL,0,1,ATH,MIL,2013-01-04,,,,,,,,,,,,,,,,,,,,,,,,,,,,1ASIWS,0,0,0,d41d8cd98f00b204e9800998ecf8427e,KIV\n",
      "java.lang.IllegalArgumentException: Parsing failed with line: 2013-01-01,10:15:33,MPT,b0af35b31588dc4ab06d5cf2986e8e02,MD,ATH,MIL,0,1,ATH,MIL,2013-01-04,,,,,,,,,,,,,,,,,,,,,,,,,,,,1ASIWS,0,0,0,d41d8cd98f00b204e9800998ecf8427e,KIV\n",
      "java.lang.IllegalArgumentException: Parsing failed with line: 2013-01-01,10:15:33,MPT,b0af35b31588dc4ab06d5cf2986e8e02,MD,ATH,MIL,0,1,ATH,MIL,2013-01-04,,,,,,,,,,,,,,,,,,,,,,,,,,,,1ASIWS,0,0,0,d41d8cd98f00b204e9800998ecf8427e,KIV\n",
      "java.lang.IllegalArgumentException: Parsing failed with line: 2013-01-01,10:15:33,MPT,b0af35b31588dc4ab06d5cf2986e8e02,MD,ATH,MIL,0,1,ATH,MIL,2013-01-04,,,,,,,,,,,,,,,,,,,,,,,,,,,,1ASIWS,0,0,0,d41d8cd98f00b204e9800998ecf8427e,KIV\n",
      "java.lang.IllegalArgumentException: Parsing failed with line: 2013-01-01,10:15:33,MPT,b0af35b31588dc4ab06d5cf2986e8e02,MD,ATH,MIL,0,1,ATH,MIL,2013-01-04,,,,,,,,,,,,,,,,,,,,,,,,,,,,1ASIWS,0,0,0,d41d8cd98f00b204e9800998ecf8427e,KIV\n",
      "java.lang.IllegalArgumentException: Parsing failed with line: 2013-01-01,10:15:33,MPT,b0af35b31588dc4ab06d5cf2986e8e02,MD,ATH,MIL,0,1,ATH,MIL,2013-01-04,,,,,,,,,,,,,,,,,,,,,,,,,,,,1ASIWS,0,0,0,d41d8cd98f00b204e9800998ecf8427e,KIV\n",
      "java.lang.IllegalArgumentException: Parsing failed with line: 2013-01-01,10:15:33,MPT,b0af35b31588dc4ab06d5cf2986e8e02,MD,ATH,MIL,0,1,ATH,MIL,2013-01-04,,,,,,,,,,,,,,,,,,,,,,,,,,,,1ASIWS,0,0,0,d41d8cd98f00b204e9800998ecf8427e,KIV\n",
      "java.lang.IllegalArgumentException: Parsing failed with line: 2013-01-01,10:15:33,MPT,b0af35b31588dc4ab06d5cf2986e8e02,MD,ATH,MIL,0,1,ATH,MIL,2013-01-04,,,,,,,,,,,,,,,,,,,,,,,,,,,,1ASIWS,0,0,0,d41d8cd98f00b204e9800998ecf8427e,KIV\n",
      "java.lang.IllegalArgumentException: Parsing failed with line: 2013-01-01,10:15:33,MPT,b0af35b31588dc4ab06d5cf2986e8e02,MD,ATH,MIL,0,1,ATH,MIL,2013-01-04,,,,,,,,,,,,,,,,,,,,,,,,,,,,1ASIWS,0,0,0,d41d8cd98f00b204e9800998ecf8427e,KIV\n",
      "java.lang.IllegalArgumentException: Parsing failed with line: 2013-01-01,10:15:33,MPT,b0af35b31588dc4ab06d5cf2986e8e02,MD,ATH,MIL,0,1,ATH,MIL,2013-01-04,,,,,,,,,,,,,,,,,,,,,,,,,,,,1ASIWS,0,0,0,d41d8cd98f00b204e9800998ecf8427e,KIV\n",
      "java.lang.IllegalArgumentException: Parsing failed with line: 2013-01-01,10:15:33,MPT,b0af35b31588dc4ab06d5cf2986e8e02,MD,ATH,MIL,0,1,ATH,MIL,2013-01-04,,,,,,,,,,,,,,,,,,,,,,,,,,,,1ASIWS,0,0,0,d41d8cd98f00b204e9800998ecf8427e,KIV\n",
      "java.lang.IllegalArgumentException: Parsing failed with line: 2013-01-01,10:15:33,MPT,b0af35b31588dc4ab06d5cf2986e8e02,MD,ATH,MIL,0,1,ATH,MIL,2013-01-04,,,,,,,,,,,,,,,,,,,,,,,,,,,,1ASIWS,0,0,0,d41d8cd98f00b204e9800998ecf8427e,KIV\n",
      "java.lang.IllegalArgumentException: Parsing failed with line: 2013-01-01,10:15:33,MPT,b0af35b31588dc4ab06d5cf2986e8e02,MD,ATH,MIL,0,1,ATH,MIL,2013-01-04,,,,,,,,,,,,,,,,,,,,,,,,,,,,1ASIWS,0,0,0,d41d8cd98f00b204e9800998ecf8427e,KIV\n",
      "java.lang.IllegalArgumentException: Parsing failed with line: 2013-01-01,10:15:33,MPT,b0af35b31588dc4ab06d5cf2986e8e02,MD,ATH,MIL,0,1,ATH,MIL,2013-01-04,,,,,,,,,,,,,,,,,,,,,,,,,,,,1ASIWS,0,0,0,d41d8cd98f00b204e9800998ecf8427e,KIV\n",
      "java.lang.IllegalArgumentException: Parsing failed with line: 2013-01-01,10:15:33,MPT,b0af35b31588dc4ab06d5cf2986e8e02,MD,ATH,MIL,0,1,ATH,MIL,2013-01-04,,,,,,,,,,,,,,,,,,,,,,,,,,,,1ASIWS,0,0,0,d41d8cd98f00b204e9800998ecf8427e,KIV\n",
      "java.lang.IllegalArgumentException: Parsing failed with line: 2013-01-01,10:15:33,MPT,b0af35b31588dc4ab06d5cf2986e8e02,MD,ATH,MIL,0,1,ATH,MIL,2013-01-04,,,,,,,,,,,,,,,,,,,,,,,,,,,,1ASIWS,0,0,0,d41d8cd98f00b204e9800998ecf8427e,KIV\n",
      "java.lang.IllegalArgumentException: Parsing failed with line: 2013-01-01,10:15:33,MPT,b0af35b31588dc4ab06d5cf2986e8e02,MD,ATH,MIL,0,1,ATH,MIL,2013-01-04,,,,,,,,,,,,,,,,,,,,,,,,,,,,1ASIWS,0,0,0,d41d8cd98f00b204e9800998ecf8427e,KIV\n",
      "java.lang.IllegalArgumentException: Parsing failed with line: 2013-01-01,10:15:33,MPT,b0af35b31588dc4ab06d5cf2986e8e02,MD,ATH,MIL,0,1,ATH,MIL,2013-01-04,,,,,,,,,,,,,,,,,,,,,,,,,,,,1ASIWS,0,0,0,d41d8cd98f00b204e9800998ecf8427e,KIV\n",
      "java.lang.IllegalArgumentException: Parsing failed with line: 2013-01-01,10:15:33,MPT,b0af35b31588dc4ab06d5cf2986e8e02,MD,ATH,MIL,0,1,ATH,MIL,2013-01-04,,,,,,,,,,,,,,,,,,,,,,,,,,,,1ASIWS,0,0,0,d41d8cd98f00b204e9800998ecf8427e,KIV\n",
      "java.lang.IllegalArgumentException: Parsing failed with line: 2013-01-01,10:15:33,MPT,b0af35b31588dc4ab06d5cf2986e8e02,MD,ATH,MIL,0,1,ATH,MIL,2013-01-04,,,,,,,,,,,,,,,,,,,,,,,,,,,,1ASIWS,0,0,0,d41d8cd98f00b204e9800998ecf8427e,KIV\n",
      "java.lang.IllegalArgumentException: Parsing failed with line: 2013-01-01,10:15:33,MPT,b0af35b31588dc4ab06d5cf2986e8e02,MD,ATH,MIL,0,1,ATH,MIL,2013-01-04,,,,,,,,,,,,,,,,,,,,,,,,,,,,1ASIWS,0,0,0,d41d8cd98f00b204e9800998ecf8427e,KIV\n",
      "java.lang.IllegalArgumentException: Parsing failed with line: 2013-01-01,10:15:33,MPT,b0af35b31588dc4ab06d5cf2986e8e02,MD,ATH,MIL,0,1,ATH,MIL,2013-01-04,,,,,,,,,,,,,,,,,,,,,,,,,,,,1ASIWS,0,0,0,d41d8cd98f00b204e9800998ecf8427e,KIV\n"
     ]
    },
    {
     "data": {
      "text/plain": [
       "\u001b[32mimport \u001b[36mscala.util.{Try, Failure, Success}\u001b[0m\n",
       "\u001b[32mimport \u001b[36morg.joda.time.format.ISODateTimeFormat\u001b[0m\n",
       "\u001b[36msearches\u001b[0m: \u001b[32morg\u001b[0m.\u001b[32mapache\u001b[0m.\u001b[32mspark\u001b[0m.\u001b[32mrdd\u001b[0m.\u001b[32mRDD\u001b[0m[\u001b[32mutil\u001b[0m.\u001b[32mTry\u001b[0m[(\u001b[32morg\u001b[0m.\u001b[32mjoda\u001b[0m.\u001b[32mtime\u001b[0m.\u001b[32mLocalDate\u001b[0m, \u001b[32mString\u001b[0m)]] = MapPartitionsRDD[3] at map at Main.scala:34"
      ]
     },
     "metadata": {},
     "output_type": "display_data"
    }
   ],
   "source": [
    "import scala.util.{Try, Failure, Success}\n",
    "import org.joda.time.format.ISODateTimeFormat\n",
    "\n",
    "val searches =\n",
    "  sc.textFile(csvPath)\n",
    "    .filter(_ != headerLine) // The first partition will get the header line. We need to discard it\n",
    "    .map{ record =>\n",
    "      Try{\n",
    "        val fields = record.split(\"\"\"\\^\"\"\", -1).map(_.trim)\n",
    "        val dateFormat = ISODateTimeFormat.date()\n",
    "        dateFormat.parseLocalDate(fields(colNames(\"Date\"))) -> fields(colNames(\"Destination\"))\n",
    "      }.recoverWith{ case cause =>\n",
    "        Failure(new IllegalArgumentException(s\"Parsing failed with line: $record\", cause))\n",
    "      }\n",
    "    }\n",
    "\n",
    "searches.collect{case Failure(cause) => cause}\n",
    "    .collect()\n",
    "    .foreach(println)"
   ]
  },
  {
   "cell_type": "markdown",
   "metadata": {},
   "source": [
    "Many lines are still comma-separated. We could recover them. Let's just drop them for now.\n",
    "\n",
    "Let's start with a version using hardcoded airport codes for Madrid, Malaga, and Barcelona."
   ]
  },
  {
   "cell_type": "code",
   "execution_count": 8,
   "metadata": {
    "collapsed": false
   },
   "outputs": [
    {
     "data": {
      "text/plain": [
       "\u001b[36mkeyAirports\u001b[0m: \u001b[32mSet\u001b[0m[\u001b[32mString\u001b[0m] = \u001b[33mSet\u001b[0m(\u001b[32m\"MAD\"\u001b[0m, \u001b[32m\"AGP\"\u001b[0m, \u001b[32m\"BCN\"\u001b[0m)"
      ]
     },
     "metadata": {},
     "output_type": "display_data"
    }
   ],
   "source": [
    "val keyAirports = Set(\"MAD\", \"AGP\", \"BCN\")"
   ]
  },
  {
   "cell_type": "markdown",
   "metadata": {},
   "source": [
    "Now we extract the month of each search and aggregate by (month, destination)."
   ]
  },
  {
   "cell_type": "code",
   "execution_count": 9,
   "metadata": {
    "collapsed": false
   },
   "outputs": [
    {
     "data": {
      "text/plain": [
       "\u001b[36mmonthlySearches\u001b[0m: \u001b[32morg\u001b[0m.\u001b[32mapache\u001b[0m.\u001b[32mspark\u001b[0m.\u001b[32mrdd\u001b[0m.\u001b[32mRDD\u001b[0m[((\u001b[32morg\u001b[0m.\u001b[32mjoda\u001b[0m.\u001b[32mtime\u001b[0m.\u001b[32mLocalDate\u001b[0m, \u001b[32mString\u001b[0m), \u001b[32mInt\u001b[0m)] = ShuffledRDD[7] at aggregateByKey at Main.scala:30"
      ]
     },
     "metadata": {},
     "output_type": "display_data"
    }
   ],
   "source": [
    "val monthlySearches =\n",
    "  searches.collect{ case Success((date, dest)) => (date.withDayOfMonth(1), dest) -> date }\n",
    "          .filter{ case ((_, dest), _) => keyAirports.contains(dest) }\n",
    "          .aggregateByKey(0)((total, searchDate) => total + 1, _+_)"
   ]
  },
  {
   "cell_type": "markdown",
   "metadata": {},
   "source": [
    "Let's group them by destination and collect them."
   ]
  },
  {
   "cell_type": "code",
   "execution_count": 10,
   "metadata": {
    "collapsed": false
   },
   "outputs": [
    {
     "data": {
      "text/plain": [
       "\u001b[36mmonthlySearchesByDest\u001b[0m: \u001b[32mcollection\u001b[0m.\u001b[32mMap\u001b[0m[\u001b[32mString\u001b[0m, \u001b[32mIterable\u001b[0m[(\u001b[32morg\u001b[0m.\u001b[32mjoda\u001b[0m.\u001b[32mtime\u001b[0m.\u001b[32mLocalDate\u001b[0m, \u001b[32mInt\u001b[0m)]] = \u001b[33mMap\u001b[0m(\n",
       "  \u001b[32m\"AGP\"\u001b[0m -> \u001b[33mCompactBuffer\u001b[0m(\n",
       "    \u001b[33m\u001b[0m(2013-04-01, \u001b[32m8265\u001b[0m),\n",
       "    \u001b[33m\u001b[0m(2013-07-01, \u001b[32m8892\u001b[0m),\n",
       "    \u001b[33m\u001b[0m(2013-11-01, \u001b[32m6384\u001b[0m),\n",
       "    \u001b[33m\u001b[0m(2013-06-01, \u001b[32m7923\u001b[0m),\n",
       "    \u001b[33m\u001b[0m(2013-03-01, \u001b[32m10659\u001b[0m),\n",
       "    \u001b[33m\u001b[0m(2013-01-01, \u001b[32m9633\u001b[0m),\n",
       "    \u001b[33m\u001b[0m(2013-10-01, \u001b[32m6499\u001b[0m),\n",
       "    \u001b[33m\u001b[0m(2013-09-01, \u001b[32m8151\u001b[0m),\n",
       "    \u001b[33m\u001b[0m(2013-12-01, \u001b[32m3696\u001b[0m),\n",
       "    \u001b[33m\u001b[0m(2013-05-01, \u001b[32m10830\u001b[0m),\n",
       "    \u001b[33m\u001b[0m(2013-02-01, \u001b[32m8379\u001b[0m),\n",
       "    \u001b[33m\u001b[0m(2013-08-01, \u001b[32m7866\u001b[0m)\n",
       "  ),\n",
       "  \u001b[32m\"MAD\"\u001b[0m -> \u001b[33mCompactBuffer\u001b[0m(\n",
       "    \u001b[33m\u001b[0m(2013-07-01, \u001b[32m22971\u001b[0m),\n",
       "    \u001b[33m\u001b[0m(2013-08-01, \u001b[32m21831\u001b[0m),\n",
       "    \u001b[33m\u001b[0m(2013-12-01, \u001b[32m14504\u001b[0m),\n",
       "    \u001b[33m\u001b[0m(2013-09-01, \u001b[32m21147\u001b[0m),\n",
       "\u001b[33m...\u001b[0m"
      ]
     },
     "metadata": {},
     "output_type": "display_data"
    }
   ],
   "source": [
    "val monthlySearchesByDest =\n",
    "  monthlySearches.map{ case ((month, dest), nbSearches) => dest -> (month, nbSearches)}\n",
    "                 .groupByKey()\n",
    "                 .collectAsMap()"
   ]
  },
  {
   "cell_type": "markdown",
   "metadata": {},
   "source": [
    "We need to sort these by month before plotting."
   ]
  },
  {
   "cell_type": "code",
   "execution_count": 11,
   "metadata": {
    "collapsed": false
   },
   "outputs": [
    {
     "data": {
      "text/plain": [
       "\u001b[32mimport \u001b[36mcom.github.nscala_time.time.Imports._\u001b[0m\n",
       "\u001b[32mimport \u001b[36mscala.collection.immutable.SortedMap\u001b[0m\n",
       "\u001b[36msearchesByDest\u001b[0m: \u001b[32mcollection\u001b[0m.\u001b[32mMap\u001b[0m[\u001b[32mString\u001b[0m, \u001b[32mcollection\u001b[0m.\u001b[32mimmutable\u001b[0m.\u001b[32mSortedMap\u001b[0m[\u001b[32mcom\u001b[0m.\u001b[32mgithub\u001b[0m.\u001b[32mnscala_time\u001b[0m.\u001b[32mtime\u001b[0m.\u001b[32mImports\u001b[0m.\u001b[32mLocalDate\u001b[0m, \u001b[32mInt\u001b[0m]] = \u001b[33mMap\u001b[0m(\n",
       "  \u001b[32m\"AGP\"\u001b[0m -> \u001b[33mMap\u001b[0m(\n",
       "    2013-01-01 -> \u001b[32m9633\u001b[0m,\n",
       "    2013-02-01 -> \u001b[32m8379\u001b[0m,\n",
       "    2013-03-01 -> \u001b[32m10659\u001b[0m,\n",
       "    2013-04-01 -> \u001b[32m8265\u001b[0m,\n",
       "    2013-05-01 -> \u001b[32m10830\u001b[0m,\n",
       "    2013-06-01 -> \u001b[32m7923\u001b[0m,\n",
       "    2013-07-01 -> \u001b[32m8892\u001b[0m,\n",
       "    2013-08-01 -> \u001b[32m7866\u001b[0m,\n",
       "    2013-09-01 -> \u001b[32m8151\u001b[0m,\n",
       "    2013-10-01 -> \u001b[32m6499\u001b[0m,\n",
       "    2013-11-01 -> \u001b[32m6384\u001b[0m,\n",
       "    2013-12-01 -> \u001b[32m3696\u001b[0m\n",
       "  ),\n",
       "  \u001b[32m\"MAD\"\u001b[0m -> \u001b[33mMap\u001b[0m(\n",
       "    2013-01-01 -> \u001b[32m24258\u001b[0m,\n",
       "    2013-02-01 -> \u001b[32m22800\u001b[0m,\n",
       "    2013-03-01 -> \u001b[32m24681\u001b[0m,\n",
       "    2013-04-01 -> \u001b[32m25251\u001b[0m,\n",
       "\u001b[33m...\u001b[0m"
      ]
     },
     "metadata": {},
     "output_type": "display_data"
    }
   ],
   "source": [
    "import com.github.nscala_time.time.Imports._\n",
    "import scala.collection.immutable.SortedMap\n",
    "\n",
    "val searchesByDest = monthlySearchesByDest.mapValues(SortedMap.empty[LocalDate, Int] ++ _)"
   ]
  },
  {
   "cell_type": "markdown",
   "metadata": {},
   "source": [
    "Now let's try to use breeze-viz to plot that."
   ]
  },
  {
   "cell_type": "code",
   "execution_count": 12,
   "metadata": {
    "collapsed": false
   },
   "outputs": [
    {
     "name": "stdout",
     "output_type": "stream",
     "text": [
      "18 new artifact(s)"
     ]
    },
    {
     "name": "stderr",
     "output_type": "stream",
     "text": [
      "18 new artifacts in macro"
     ]
    },
    {
     "name": "stdout",
     "output_type": "stream",
     "text": [
      "\r\n"
     ]
    },
    {
     "name": "stderr",
     "output_type": "stream",
     "text": [
      "\r\n",
      "18 new artifacts in runtime\r\n",
      "18 new artifacts in compile\r\n"
     ]
    },
    {
     "data": {
      "text/plain": []
     },
     "metadata": {},
     "output_type": "display_data"
    }
   ],
   "source": [
    "classpath.add(\"org.scalanlp\" %% \"breeze-viz\" % \"0.12\")"
   ]
  },
  {
   "cell_type": "code",
   "execution_count": 13,
   "metadata": {
    "collapsed": false
   },
   "outputs": [
    {
     "data": {
      "text/plain": [
       "\u001b[32mimport \u001b[36mbreeze.plot._\u001b[0m"
      ]
     },
     "metadata": {},
     "output_type": "display_data"
    }
   ],
   "source": [
    "import breeze.plot._\n"
   ]
  },
  {
   "cell_type": "code",
   "execution_count": 14,
   "metadata": {
    "collapsed": false
   },
   "outputs": [
    {
     "data": {
      "text/plain": [
       "\u001b[36msearchFig\u001b[0m: \u001b[32mFigure\u001b[0m = breeze.plot.Figure@2dd09f33"
      ]
     },
     "metadata": {},
     "output_type": "display_data"
    }
   ],
   "source": [
    "val searchFig = Figure(\"Monthly searches\")"
   ]
  },
  {
   "cell_type": "code",
   "execution_count": 15,
   "metadata": {
    "collapsed": false
   },
   "outputs": [
    {
     "data": {
      "text/plain": [
       "\u001b[32mimport \u001b[36morg.joda.time.Months\u001b[0m\n",
       "\u001b[36mfirstMonth\u001b[0m: \u001b[32mLocalDate\u001b[0m = 2013-01-01\n",
       "\u001b[36mp\u001b[0m: \u001b[32mPlot\u001b[0m = breeze.plot.Plot@7760418"
      ]
     },
     "metadata": {},
     "output_type": "display_data"
    }
   ],
   "source": [
    "import org.joda.time.Months\n",
    "\n",
    "val firstMonth = searchesByDest.flatMap{case (dest, srch) => srch.keys}.min\n",
    "\n",
    "val p = searchFig.subplot(0)\n",
    "searchesByDest.foreach{ case (dest, monthSearches) =>\n",
    "  p += plot(\n",
    "    x = monthSearches.keys.toIndexedSeq.map(Months.monthsBetween(firstMonth,_).getMonths),\n",
    "    y = monthSearches.values.toIndexedSeq,\n",
    "    name = dest\n",
    "  )\n",
    "}\n",
    "searchFig.refresh()\n",
    "                       "
   ]
  },
  {
   "cell_type": "markdown",
   "metadata": {},
   "source": [
    "On the figure, the x-axis is displaying the number of months since the first month because it seems breeze-viz API does not manage TimeSeriesDataset so far.\n",
    "\n",
    "Let's try to add a few labels."
   ]
  },
  {
   "cell_type": "code",
   "execution_count": 16,
   "metadata": {
    "collapsed": false
   },
   "outputs": [
    {
     "data": {
      "text/plain": []
     },
     "metadata": {},
     "output_type": "display_data"
    }
   ],
   "source": [
    "p.title = \"Monthly searches\"\n",
    "p.xlabel = \"Months\"\n",
    "p.ylabel = \"Nb searches\"\n",
    "p.legend = true\n",
    "\n",
    "searchFig.refresh()"
   ]
  },
  {
   "cell_type": "code",
   "execution_count": 17,
   "metadata": {
    "collapsed": false
   },
   "outputs": [
    {
     "data": {
      "text/plain": []
     },
     "metadata": {},
     "output_type": "display_data"
    }
   ],
   "source": [
    "sc.stop()"
   ]
  },
  {
   "cell_type": "code",
   "execution_count": null,
   "metadata": {
    "collapsed": true
   },
   "outputs": [],
   "source": []
  }
 ],
 "metadata": {
  "kernelspec": {
   "display_name": "Scala 2.11",
   "language": "scala211",
   "name": "scala211"
  },
  "language_info": {
   "codemirror_mode": "text/x-scala",
   "file_extension": ".scala",
   "mimetype": "text/x-scala",
   "name": "scala211",
   "pygments_lexer": "scala",
   "version": "2.11.8"
  }
 },
 "nbformat": 4,
 "nbformat_minor": 0
}
